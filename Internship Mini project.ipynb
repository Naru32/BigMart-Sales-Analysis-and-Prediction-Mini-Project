{
 "cells": [
  {
   "cell_type": "markdown",
   "id": "fc56c9d8",
   "metadata": {},
   "source": [
    "## Hypothesis"
   ]
  },
  {
   "cell_type": "markdown",
   "id": "d213b1ad",
   "metadata": {},
   "source": [
    "Store Location Hypotheses:\n",
    "\n",
    "Hypothesis 1 (H0): The geographical location of a store has no significant impact on its sales.\n",
    "\n",
    "Alternative Hypothesis (H1): The geographical location of a store significantly influences its sales. Stores in certain cities or regions may have higher sales than others.\n",
    "\n",
    "Hypothesis 2 (H0): Store size does not affect sales.\n",
    "\n",
    "Alternative Hypothesis (H1): The size of a store significantly impacts sales. Larger stores may generate higher sales due to greater product variety and customer foot traffic.\n",
    "\n",
    "2. Product Attributes Hypotheses:\n",
    "\n",
    "Hypothesis 3 (H0): The attributes (e.g., weight, visibility, etc.) of a product have no significant effect on its sales.\n",
    "\n",
    "Alternative Hypothesis (H1): Certain product attributes significantly influence sales. For instance, products with higher visibility on store shelves may sell more.\n",
    "\n",
    "Hypothesis 4 (H0): The type of product (e.g., perishable, non-perishable) does not affect sales.\n",
    "\n",
    "Alternative Hypothesis (H1): Product type significantly impacts sales. Perishable products might have different sales patterns compared to non-perishables.\n",
    "\n",
    "3. Time-Based Hypotheses:\n",
    "\n",
    "Hypothesis 5 (H0): Seasonal variations do not have a significant effect on sales.\n",
    "\n",
    "Alternative Hypothesis (H1): Seasonal factors significantly impact sales. For example, sales may increase during holidays or special promotions.\n",
    "\n",
    "Hypothesis 6 (H0): Store performance remains consistent over the years.\n",
    "\n",
    "Alternative Hypothesis (H1): Store performance changes over time, and sales trends may vary from year to year.\n",
    "\n",
    "4. Interaction Hypotheses:\n",
    "\n",
    "Hypothesis 7 (H0): There is no interaction effect between store location and product attributes on sales.\n",
    "\n",
    "Alternative Hypothesis (H1): The combination of store location and specific product attributes can have a significant impact on sales.\n",
    "\n",
    "5. Pricing Hypotheses:\n",
    "\n",
    "Hypothesis 8 (H0): Price changes do not affect product sales significantly.\n",
    "\n",
    "Alternative Hypothesis (H1): Changes in product pricing can lead to variations in sales. For example, lower prices may boost sales, while higher prices may lead to reduced sales.\n",
    "\n",
    "6. Promotions and Advertising Hypotheses:\n",
    "\n",
    "Hypothesis 9 (H0): Promotional activities and advertising do not have a significant impact on sales.\n",
    "\n",
    "Alternative Hypothesis (H1): Effective promotions and advertising strategies can lead to increased product sales.\n",
    "\n",
    "    This is the probable hypothesis according to me"
   ]
  },
  {
   "cell_type": "code",
   "execution_count": 1,
   "id": "e09d5e52",
   "metadata": {},
   "outputs": [],
   "source": [
    "import pandas as pd\n",
    "import numpy as np\n",
    "import matplotlib.pyplot as plt\n",
    "%matplotlib inline\n",
    "import seaborn as sns"
   ]
  },
  {
   "cell_type": "code",
   "execution_count": 2,
   "id": "8a8eae1f",
   "metadata": {},
   "outputs": [
    {
     "name": "stdout",
     "output_type": "stream",
     "text": [
      "C:\\Users\\Narendra\\Documents\\DSS Excellfiles\n"
     ]
    }
   ],
   "source": [
    "import io\n",
    "%cd \"C:\\Users\\Narendra\\Documents\\DSS Excellfiles\""
   ]
  },
  {
   "cell_type": "code",
   "execution_count": 3,
   "id": "70ce8d7e",
   "metadata": {},
   "outputs": [],
   "source": [
    "naru=pd.read_csv(\"Test.csv\")"
   ]
  },
  {
   "cell_type": "code",
   "execution_count": 4,
   "id": "f26d296a",
   "metadata": {},
   "outputs": [],
   "source": [
    "ns=pd.read_csv(\"Train.csv\")"
   ]
  },
  {
   "cell_type": "code",
   "execution_count": 5,
   "id": "06d0e8b2",
   "metadata": {},
   "outputs": [
    {
     "name": "stdout",
     "output_type": "stream",
     "text": [
      "(5681, 11)\n",
      "(8523, 12)\n"
     ]
    }
   ],
   "source": [
    "print(naru.shape)\n",
    "print(ns.shape)"
   ]
  },
  {
   "cell_type": "code",
   "execution_count": 6,
   "id": "3cea2adc",
   "metadata": {},
   "outputs": [
    {
     "data": {
      "text/plain": [
       "Index(['Item_Identifier', 'Item_Weight', 'Item_Fat_Content', 'Item_Visibility',\n",
       "       'Item_Type', 'Item_MRP', 'Outlet_Identifier',\n",
       "       'Outlet_Establishment_Year', 'Outlet_Size', 'Outlet_Location_Type',\n",
       "       'Outlet_Type'],\n",
       "      dtype='object')"
      ]
     },
     "execution_count": 6,
     "metadata": {},
     "output_type": "execute_result"
    }
   ],
   "source": [
    "naru.columns"
   ]
  },
  {
   "cell_type": "code",
   "execution_count": 7,
   "id": "b53aea2a",
   "metadata": {},
   "outputs": [
    {
     "data": {
      "text/plain": [
       "Index(['Item_Identifier', 'Item_Weight', 'Item_Fat_Content', 'Item_Visibility',\n",
       "       'Item_Type', 'Item_MRP', 'Outlet_Identifier',\n",
       "       'Outlet_Establishment_Year', 'Outlet_Size', 'Outlet_Location_Type',\n",
       "       'Outlet_Type', 'Item_Outlet_Sales'],\n",
       "      dtype='object')"
      ]
     },
     "execution_count": 7,
     "metadata": {},
     "output_type": "execute_result"
    }
   ],
   "source": [
    "ns.columns"
   ]
  },
  {
   "cell_type": "code",
   "execution_count": 8,
   "id": "e5665482",
   "metadata": {},
   "outputs": [],
   "source": [
    "ns['Item_Outlet_Sales'] = 'test'"
   ]
  },
  {
   "cell_type": "code",
   "execution_count": 9,
   "id": "746ecc03",
   "metadata": {},
   "outputs": [
    {
     "name": "stdout",
     "output_type": "stream",
     "text": [
      "(5681, 11)\n",
      "(8523, 12)\n"
     ]
    }
   ],
   "source": [
    "print(naru.shape)\n",
    "print(ns.shape)"
   ]
  },
  {
   "cell_type": "code",
   "execution_count": 10,
   "id": "b2177533",
   "metadata": {},
   "outputs": [
    {
     "data": {
      "text/html": [
       "<div>\n",
       "<style scoped>\n",
       "    .dataframe tbody tr th:only-of-type {\n",
       "        vertical-align: middle;\n",
       "    }\n",
       "\n",
       "    .dataframe tbody tr th {\n",
       "        vertical-align: top;\n",
       "    }\n",
       "\n",
       "    .dataframe thead th {\n",
       "        text-align: right;\n",
       "    }\n",
       "</style>\n",
       "<table border=\"1\" class=\"dataframe\">\n",
       "  <thead>\n",
       "    <tr style=\"text-align: right;\">\n",
       "      <th></th>\n",
       "      <th>Item_Identifier</th>\n",
       "      <th>Item_Weight</th>\n",
       "      <th>Item_Fat_Content</th>\n",
       "      <th>Item_Visibility</th>\n",
       "      <th>Item_Type</th>\n",
       "      <th>Item_MRP</th>\n",
       "      <th>Outlet_Identifier</th>\n",
       "      <th>Outlet_Establishment_Year</th>\n",
       "      <th>Outlet_Size</th>\n",
       "      <th>Outlet_Location_Type</th>\n",
       "      <th>Outlet_Type</th>\n",
       "    </tr>\n",
       "  </thead>\n",
       "  <tbody>\n",
       "    <tr>\n",
       "      <th>0</th>\n",
       "      <td>FDW58</td>\n",
       "      <td>20.750</td>\n",
       "      <td>Low Fat</td>\n",
       "      <td>0.007565</td>\n",
       "      <td>Snack Foods</td>\n",
       "      <td>107.8622</td>\n",
       "      <td>OUT049</td>\n",
       "      <td>1999</td>\n",
       "      <td>Medium</td>\n",
       "      <td>Tier 1</td>\n",
       "      <td>Supermarket Type1</td>\n",
       "    </tr>\n",
       "    <tr>\n",
       "      <th>1</th>\n",
       "      <td>FDW14</td>\n",
       "      <td>8.300</td>\n",
       "      <td>reg</td>\n",
       "      <td>0.038428</td>\n",
       "      <td>Dairy</td>\n",
       "      <td>87.3198</td>\n",
       "      <td>OUT017</td>\n",
       "      <td>2007</td>\n",
       "      <td>NaN</td>\n",
       "      <td>Tier 2</td>\n",
       "      <td>Supermarket Type1</td>\n",
       "    </tr>\n",
       "    <tr>\n",
       "      <th>2</th>\n",
       "      <td>NCN55</td>\n",
       "      <td>14.600</td>\n",
       "      <td>Low Fat</td>\n",
       "      <td>0.099575</td>\n",
       "      <td>Others</td>\n",
       "      <td>241.7538</td>\n",
       "      <td>OUT010</td>\n",
       "      <td>1998</td>\n",
       "      <td>NaN</td>\n",
       "      <td>Tier 3</td>\n",
       "      <td>Grocery Store</td>\n",
       "    </tr>\n",
       "    <tr>\n",
       "      <th>3</th>\n",
       "      <td>FDQ58</td>\n",
       "      <td>7.315</td>\n",
       "      <td>Low Fat</td>\n",
       "      <td>0.015388</td>\n",
       "      <td>Snack Foods</td>\n",
       "      <td>155.0340</td>\n",
       "      <td>OUT017</td>\n",
       "      <td>2007</td>\n",
       "      <td>NaN</td>\n",
       "      <td>Tier 2</td>\n",
       "      <td>Supermarket Type1</td>\n",
       "    </tr>\n",
       "    <tr>\n",
       "      <th>4</th>\n",
       "      <td>FDY38</td>\n",
       "      <td>NaN</td>\n",
       "      <td>Regular</td>\n",
       "      <td>0.118599</td>\n",
       "      <td>Dairy</td>\n",
       "      <td>234.2300</td>\n",
       "      <td>OUT027</td>\n",
       "      <td>1985</td>\n",
       "      <td>Medium</td>\n",
       "      <td>Tier 3</td>\n",
       "      <td>Supermarket Type3</td>\n",
       "    </tr>\n",
       "  </tbody>\n",
       "</table>\n",
       "</div>"
      ],
      "text/plain": [
       "  Item_Identifier  Item_Weight Item_Fat_Content  Item_Visibility    Item_Type  \\\n",
       "0           FDW58       20.750          Low Fat         0.007565  Snack Foods   \n",
       "1           FDW14        8.300              reg         0.038428        Dairy   \n",
       "2           NCN55       14.600          Low Fat         0.099575       Others   \n",
       "3           FDQ58        7.315          Low Fat         0.015388  Snack Foods   \n",
       "4           FDY38          NaN          Regular         0.118599        Dairy   \n",
       "\n",
       "   Item_MRP Outlet_Identifier  Outlet_Establishment_Year Outlet_Size  \\\n",
       "0  107.8622            OUT049                       1999      Medium   \n",
       "1   87.3198            OUT017                       2007         NaN   \n",
       "2  241.7538            OUT010                       1998         NaN   \n",
       "3  155.0340            OUT017                       2007         NaN   \n",
       "4  234.2300            OUT027                       1985      Medium   \n",
       "\n",
       "  Outlet_Location_Type        Outlet_Type  \n",
       "0               Tier 1  Supermarket Type1  \n",
       "1               Tier 2  Supermarket Type1  \n",
       "2               Tier 3      Grocery Store  \n",
       "3               Tier 2  Supermarket Type1  \n",
       "4               Tier 3  Supermarket Type3  "
      ]
     },
     "execution_count": 10,
     "metadata": {},
     "output_type": "execute_result"
    }
   ],
   "source": [
    "naru.head()"
   ]
  },
  {
   "cell_type": "code",
   "execution_count": 11,
   "id": "9f4cc77a",
   "metadata": {},
   "outputs": [],
   "source": [
    "new = naru.T #Data transpose"
   ]
  },
  {
   "cell_type": "code",
   "execution_count": 12,
   "id": "7a20c79f",
   "metadata": {},
   "outputs": [
    {
     "data": {
      "text/html": [
       "<div>\n",
       "<style scoped>\n",
       "    .dataframe tbody tr th:only-of-type {\n",
       "        vertical-align: middle;\n",
       "    }\n",
       "\n",
       "    .dataframe tbody tr th {\n",
       "        vertical-align: top;\n",
       "    }\n",
       "\n",
       "    .dataframe thead th {\n",
       "        text-align: right;\n",
       "    }\n",
       "</style>\n",
       "<table border=\"1\" class=\"dataframe\">\n",
       "  <thead>\n",
       "    <tr style=\"text-align: right;\">\n",
       "      <th></th>\n",
       "      <th>0</th>\n",
       "      <th>1</th>\n",
       "      <th>2</th>\n",
       "      <th>3</th>\n",
       "      <th>4</th>\n",
       "      <th>5</th>\n",
       "      <th>6</th>\n",
       "      <th>7</th>\n",
       "      <th>8</th>\n",
       "      <th>9</th>\n",
       "      <th>...</th>\n",
       "      <th>5671</th>\n",
       "      <th>5672</th>\n",
       "      <th>5673</th>\n",
       "      <th>5674</th>\n",
       "      <th>5675</th>\n",
       "      <th>5676</th>\n",
       "      <th>5677</th>\n",
       "      <th>5678</th>\n",
       "      <th>5679</th>\n",
       "      <th>5680</th>\n",
       "    </tr>\n",
       "  </thead>\n",
       "  <tbody>\n",
       "    <tr>\n",
       "      <th>Item_Identifier</th>\n",
       "      <td>FDW58</td>\n",
       "      <td>FDW14</td>\n",
       "      <td>NCN55</td>\n",
       "      <td>FDQ58</td>\n",
       "      <td>FDY38</td>\n",
       "      <td>FDH56</td>\n",
       "      <td>FDL48</td>\n",
       "      <td>FDC48</td>\n",
       "      <td>FDN33</td>\n",
       "      <td>FDA36</td>\n",
       "      <td>...</td>\n",
       "      <td>FDA01</td>\n",
       "      <td>NCH42</td>\n",
       "      <td>FDF46</td>\n",
       "      <td>DRL35</td>\n",
       "      <td>FDW46</td>\n",
       "      <td>FDB58</td>\n",
       "      <td>FDD47</td>\n",
       "      <td>NCO17</td>\n",
       "      <td>FDJ26</td>\n",
       "      <td>FDU37</td>\n",
       "    </tr>\n",
       "    <tr>\n",
       "      <th>Item_Weight</th>\n",
       "      <td>20.75</td>\n",
       "      <td>8.3</td>\n",
       "      <td>14.6</td>\n",
       "      <td>7.315</td>\n",
       "      <td>NaN</td>\n",
       "      <td>9.8</td>\n",
       "      <td>19.35</td>\n",
       "      <td>NaN</td>\n",
       "      <td>6.305</td>\n",
       "      <td>5.985</td>\n",
       "      <td>...</td>\n",
       "      <td>15.0</td>\n",
       "      <td>6.86</td>\n",
       "      <td>7.07</td>\n",
       "      <td>15.7</td>\n",
       "      <td>13.0</td>\n",
       "      <td>10.5</td>\n",
       "      <td>7.6</td>\n",
       "      <td>10.0</td>\n",
       "      <td>15.3</td>\n",
       "      <td>9.5</td>\n",
       "    </tr>\n",
       "    <tr>\n",
       "      <th>Item_Fat_Content</th>\n",
       "      <td>Low Fat</td>\n",
       "      <td>reg</td>\n",
       "      <td>Low Fat</td>\n",
       "      <td>Low Fat</td>\n",
       "      <td>Regular</td>\n",
       "      <td>Regular</td>\n",
       "      <td>Regular</td>\n",
       "      <td>Low Fat</td>\n",
       "      <td>Regular</td>\n",
       "      <td>Low Fat</td>\n",
       "      <td>...</td>\n",
       "      <td>reg</td>\n",
       "      <td>Low Fat</td>\n",
       "      <td>Low Fat</td>\n",
       "      <td>Low Fat</td>\n",
       "      <td>Regular</td>\n",
       "      <td>Regular</td>\n",
       "      <td>Regular</td>\n",
       "      <td>Low Fat</td>\n",
       "      <td>Regular</td>\n",
       "      <td>Regular</td>\n",
       "    </tr>\n",
       "    <tr>\n",
       "      <th>Item_Visibility</th>\n",
       "      <td>0.007565</td>\n",
       "      <td>0.038428</td>\n",
       "      <td>0.099575</td>\n",
       "      <td>0.015388</td>\n",
       "      <td>0.118599</td>\n",
       "      <td>0.063817</td>\n",
       "      <td>0.082602</td>\n",
       "      <td>0.015782</td>\n",
       "      <td>0.123365</td>\n",
       "      <td>0.005698</td>\n",
       "      <td>...</td>\n",
       "      <td>0.054463</td>\n",
       "      <td>0.036594</td>\n",
       "      <td>0.094053</td>\n",
       "      <td>0.030704</td>\n",
       "      <td>0.070411</td>\n",
       "      <td>0.013496</td>\n",
       "      <td>0.142991</td>\n",
       "      <td>0.073529</td>\n",
       "      <td>0.0</td>\n",
       "      <td>0.10472</td>\n",
       "    </tr>\n",
       "    <tr>\n",
       "      <th>Item_Type</th>\n",
       "      <td>Snack Foods</td>\n",
       "      <td>Dairy</td>\n",
       "      <td>Others</td>\n",
       "      <td>Snack Foods</td>\n",
       "      <td>Dairy</td>\n",
       "      <td>Fruits and Vegetables</td>\n",
       "      <td>Baking Goods</td>\n",
       "      <td>Baking Goods</td>\n",
       "      <td>Snack Foods</td>\n",
       "      <td>Baking Goods</td>\n",
       "      <td>...</td>\n",
       "      <td>Canned</td>\n",
       "      <td>Household</td>\n",
       "      <td>Snack Foods</td>\n",
       "      <td>Hard Drinks</td>\n",
       "      <td>Snack Foods</td>\n",
       "      <td>Snack Foods</td>\n",
       "      <td>Starchy Foods</td>\n",
       "      <td>Health and Hygiene</td>\n",
       "      <td>Canned</td>\n",
       "      <td>Canned</td>\n",
       "    </tr>\n",
       "  </tbody>\n",
       "</table>\n",
       "<p>5 rows × 5681 columns</p>\n",
       "</div>"
      ],
      "text/plain": [
       "                         0         1         2            3         4     \\\n",
       "Item_Identifier         FDW58     FDW14     NCN55        FDQ58     FDY38   \n",
       "Item_Weight             20.75       8.3      14.6        7.315       NaN   \n",
       "Item_Fat_Content      Low Fat       reg   Low Fat      Low Fat   Regular   \n",
       "Item_Visibility      0.007565  0.038428  0.099575     0.015388  0.118599   \n",
       "Item_Type         Snack Foods     Dairy    Others  Snack Foods     Dairy   \n",
       "\n",
       "                                   5             6             7     \\\n",
       "Item_Identifier                   FDH56         FDL48         FDC48   \n",
       "Item_Weight                         9.8         19.35           NaN   \n",
       "Item_Fat_Content                Regular       Regular       Low Fat   \n",
       "Item_Visibility                0.063817      0.082602      0.015782   \n",
       "Item_Type         Fruits and Vegetables  Baking Goods  Baking Goods   \n",
       "\n",
       "                         8             9     ...      5671       5672  \\\n",
       "Item_Identifier         FDN33         FDA36  ...     FDA01      NCH42   \n",
       "Item_Weight             6.305         5.985  ...      15.0       6.86   \n",
       "Item_Fat_Content      Regular       Low Fat  ...       reg    Low Fat   \n",
       "Item_Visibility      0.123365      0.005698  ...  0.054463   0.036594   \n",
       "Item_Type         Snack Foods  Baking Goods  ...    Canned  Household   \n",
       "\n",
       "                         5673         5674         5675         5676  \\\n",
       "Item_Identifier         FDF46        DRL35        FDW46        FDB58   \n",
       "Item_Weight              7.07         15.7         13.0         10.5   \n",
       "Item_Fat_Content      Low Fat      Low Fat      Regular      Regular   \n",
       "Item_Visibility      0.094053     0.030704     0.070411     0.013496   \n",
       "Item_Type         Snack Foods  Hard Drinks  Snack Foods  Snack Foods   \n",
       "\n",
       "                           5677                5678     5679     5680  \n",
       "Item_Identifier           FDD47               NCO17    FDJ26    FDU37  \n",
       "Item_Weight                 7.6                10.0     15.3      9.5  \n",
       "Item_Fat_Content        Regular             Low Fat  Regular  Regular  \n",
       "Item_Visibility        0.142991            0.073529      0.0  0.10472  \n",
       "Item_Type         Starchy Foods  Health and Hygiene   Canned   Canned  \n",
       "\n",
       "[5 rows x 5681 columns]"
      ]
     },
     "execution_count": 12,
     "metadata": {},
     "output_type": "execute_result"
    }
   ],
   "source": [
    "new.head()"
   ]
  },
  {
   "cell_type": "code",
   "execution_count": 13,
   "id": "a0eec402",
   "metadata": {},
   "outputs": [
    {
     "name": "stdout",
     "output_type": "stream",
     "text": [
      "     Item_Identifier  Item_Weight Item_Fat_Content  Item_Visibility  \\\n",
      "0              FDW58       20.750          Low Fat         0.007565   \n",
      "1              FDW14        8.300              reg         0.038428   \n",
      "2              NCN55       14.600          Low Fat         0.099575   \n",
      "3              FDQ58        7.315          Low Fat         0.015388   \n",
      "4              FDY38          NaN          Regular         0.118599   \n",
      "...              ...          ...              ...              ...   \n",
      "5676           FDB58       10.500          Regular         0.013496   \n",
      "5677           FDD47        7.600          Regular         0.142991   \n",
      "5678           NCO17       10.000          Low Fat         0.073529   \n",
      "5679           FDJ26       15.300          Regular         0.000000   \n",
      "5680           FDU37        9.500          Regular         0.104720   \n",
      "\n",
      "               Item_Type  Item_MRP Outlet_Identifier  \\\n",
      "0            Snack Foods  107.8622            OUT049   \n",
      "1                  Dairy   87.3198            OUT017   \n",
      "2                 Others  241.7538            OUT010   \n",
      "3            Snack Foods  155.0340            OUT017   \n",
      "4                  Dairy  234.2300            OUT027   \n",
      "...                  ...       ...               ...   \n",
      "5676         Snack Foods  141.3154            OUT046   \n",
      "5677       Starchy Foods  169.1448            OUT018   \n",
      "5678  Health and Hygiene  118.7440            OUT045   \n",
      "5679              Canned  214.6218            OUT017   \n",
      "5680              Canned   79.7960            OUT045   \n",
      "\n",
      "      Outlet_Establishment_Year Outlet_Size Outlet_Location_Type  \\\n",
      "0                          1999      Medium               Tier 1   \n",
      "1                          2007         NaN               Tier 2   \n",
      "2                          1998         NaN               Tier 3   \n",
      "3                          2007         NaN               Tier 2   \n",
      "4                          1985      Medium               Tier 3   \n",
      "...                         ...         ...                  ...   \n",
      "5676                       1997       Small               Tier 1   \n",
      "5677                       2009      Medium               Tier 3   \n",
      "5678                       2002         NaN               Tier 2   \n",
      "5679                       2007         NaN               Tier 2   \n",
      "5680                       2002         NaN               Tier 2   \n",
      "\n",
      "            Outlet_Type  \n",
      "0     Supermarket Type1  \n",
      "1     Supermarket Type1  \n",
      "2         Grocery Store  \n",
      "3     Supermarket Type1  \n",
      "4     Supermarket Type3  \n",
      "...                 ...  \n",
      "5676  Supermarket Type1  \n",
      "5677  Supermarket Type2  \n",
      "5678  Supermarket Type1  \n",
      "5679  Supermarket Type1  \n",
      "5680  Supermarket Type1  \n",
      "\n",
      "[5681 rows x 11 columns]\n"
     ]
    }
   ],
   "source": [
    "print(naru)"
   ]
  },
  {
   "cell_type": "code",
   "execution_count": 14,
   "id": "f92f62d2",
   "metadata": {},
   "outputs": [
    {
     "data": {
      "text/html": [
       "<div>\n",
       "<style scoped>\n",
       "    .dataframe tbody tr th:only-of-type {\n",
       "        vertical-align: middle;\n",
       "    }\n",
       "\n",
       "    .dataframe tbody tr th {\n",
       "        vertical-align: top;\n",
       "    }\n",
       "\n",
       "    .dataframe thead th {\n",
       "        text-align: right;\n",
       "    }\n",
       "</style>\n",
       "<table border=\"1\" class=\"dataframe\">\n",
       "  <thead>\n",
       "    <tr style=\"text-align: right;\">\n",
       "      <th></th>\n",
       "      <th>Item_Identifier</th>\n",
       "      <th>Item_Weight</th>\n",
       "      <th>Item_Fat_Content</th>\n",
       "      <th>Item_Visibility</th>\n",
       "      <th>Item_Type</th>\n",
       "      <th>Item_MRP</th>\n",
       "      <th>Outlet_Identifier</th>\n",
       "      <th>Outlet_Establishment_Year</th>\n",
       "      <th>Outlet_Size</th>\n",
       "      <th>Outlet_Location_Type</th>\n",
       "      <th>Outlet_Type</th>\n",
       "    </tr>\n",
       "  </thead>\n",
       "  <tbody>\n",
       "    <tr>\n",
       "      <th>2846</th>\n",
       "      <td>FDU10</td>\n",
       "      <td>10.100</td>\n",
       "      <td>Regular</td>\n",
       "      <td>0.045692</td>\n",
       "      <td>Snack Foods</td>\n",
       "      <td>38.3848</td>\n",
       "      <td>OUT046</td>\n",
       "      <td>1997</td>\n",
       "      <td>Small</td>\n",
       "      <td>Tier 1</td>\n",
       "      <td>Supermarket Type1</td>\n",
       "    </tr>\n",
       "    <tr>\n",
       "      <th>1953</th>\n",
       "      <td>FDP39</td>\n",
       "      <td>12.650</td>\n",
       "      <td>Low Fat</td>\n",
       "      <td>0.069425</td>\n",
       "      <td>Meat</td>\n",
       "      <td>52.4324</td>\n",
       "      <td>OUT046</td>\n",
       "      <td>1997</td>\n",
       "      <td>Small</td>\n",
       "      <td>Tier 1</td>\n",
       "      <td>Supermarket Type1</td>\n",
       "    </tr>\n",
       "    <tr>\n",
       "      <th>4288</th>\n",
       "      <td>DRK01</td>\n",
       "      <td>NaN</td>\n",
       "      <td>Low Fat</td>\n",
       "      <td>0.106916</td>\n",
       "      <td>Soft Drinks</td>\n",
       "      <td>93.4436</td>\n",
       "      <td>OUT019</td>\n",
       "      <td>1985</td>\n",
       "      <td>Small</td>\n",
       "      <td>Tier 1</td>\n",
       "      <td>Grocery Store</td>\n",
       "    </tr>\n",
       "    <tr>\n",
       "      <th>4292</th>\n",
       "      <td>FDX60</td>\n",
       "      <td>14.350</td>\n",
       "      <td>Low Fat</td>\n",
       "      <td>0.080579</td>\n",
       "      <td>Baking Goods</td>\n",
       "      <td>77.9960</td>\n",
       "      <td>OUT035</td>\n",
       "      <td>2004</td>\n",
       "      <td>Small</td>\n",
       "      <td>Tier 2</td>\n",
       "      <td>Supermarket Type1</td>\n",
       "    </tr>\n",
       "    <tr>\n",
       "      <th>4295</th>\n",
       "      <td>FDL13</td>\n",
       "      <td>13.850</td>\n",
       "      <td>Regular</td>\n",
       "      <td>0.056308</td>\n",
       "      <td>Breakfast</td>\n",
       "      <td>231.8300</td>\n",
       "      <td>OUT035</td>\n",
       "      <td>2004</td>\n",
       "      <td>Small</td>\n",
       "      <td>Tier 2</td>\n",
       "      <td>Supermarket Type1</td>\n",
       "    </tr>\n",
       "    <tr>\n",
       "      <th>...</th>\n",
       "      <td>...</td>\n",
       "      <td>...</td>\n",
       "      <td>...</td>\n",
       "      <td>...</td>\n",
       "      <td>...</td>\n",
       "      <td>...</td>\n",
       "      <td>...</td>\n",
       "      <td>...</td>\n",
       "      <td>...</td>\n",
       "      <td>...</td>\n",
       "      <td>...</td>\n",
       "    </tr>\n",
       "    <tr>\n",
       "      <th>5668</th>\n",
       "      <td>FDC44</td>\n",
       "      <td>15.600</td>\n",
       "      <td>Low Fat</td>\n",
       "      <td>0.288892</td>\n",
       "      <td>Fruits and Vegetables</td>\n",
       "      <td>115.1518</td>\n",
       "      <td>OUT010</td>\n",
       "      <td>1998</td>\n",
       "      <td>NaN</td>\n",
       "      <td>Tier 3</td>\n",
       "      <td>Grocery Store</td>\n",
       "    </tr>\n",
       "    <tr>\n",
       "      <th>5670</th>\n",
       "      <td>FDO03</td>\n",
       "      <td>10.395</td>\n",
       "      <td>Regular</td>\n",
       "      <td>0.037092</td>\n",
       "      <td>Meat</td>\n",
       "      <td>229.4352</td>\n",
       "      <td>OUT017</td>\n",
       "      <td>2007</td>\n",
       "      <td>NaN</td>\n",
       "      <td>Tier 2</td>\n",
       "      <td>Supermarket Type1</td>\n",
       "    </tr>\n",
       "    <tr>\n",
       "      <th>5678</th>\n",
       "      <td>NCO17</td>\n",
       "      <td>10.000</td>\n",
       "      <td>Low Fat</td>\n",
       "      <td>0.073529</td>\n",
       "      <td>Health and Hygiene</td>\n",
       "      <td>118.7440</td>\n",
       "      <td>OUT045</td>\n",
       "      <td>2002</td>\n",
       "      <td>NaN</td>\n",
       "      <td>Tier 2</td>\n",
       "      <td>Supermarket Type1</td>\n",
       "    </tr>\n",
       "    <tr>\n",
       "      <th>5679</th>\n",
       "      <td>FDJ26</td>\n",
       "      <td>15.300</td>\n",
       "      <td>Regular</td>\n",
       "      <td>0.000000</td>\n",
       "      <td>Canned</td>\n",
       "      <td>214.6218</td>\n",
       "      <td>OUT017</td>\n",
       "      <td>2007</td>\n",
       "      <td>NaN</td>\n",
       "      <td>Tier 2</td>\n",
       "      <td>Supermarket Type1</td>\n",
       "    </tr>\n",
       "    <tr>\n",
       "      <th>5680</th>\n",
       "      <td>FDU37</td>\n",
       "      <td>9.500</td>\n",
       "      <td>Regular</td>\n",
       "      <td>0.104720</td>\n",
       "      <td>Canned</td>\n",
       "      <td>79.7960</td>\n",
       "      <td>OUT045</td>\n",
       "      <td>2002</td>\n",
       "      <td>NaN</td>\n",
       "      <td>Tier 2</td>\n",
       "      <td>Supermarket Type1</td>\n",
       "    </tr>\n",
       "  </tbody>\n",
       "</table>\n",
       "<p>5681 rows × 11 columns</p>\n",
       "</div>"
      ],
      "text/plain": [
       "     Item_Identifier  Item_Weight Item_Fat_Content  Item_Visibility  \\\n",
       "2846           FDU10       10.100          Regular         0.045692   \n",
       "1953           FDP39       12.650          Low Fat         0.069425   \n",
       "4288           DRK01          NaN          Low Fat         0.106916   \n",
       "4292           FDX60       14.350          Low Fat         0.080579   \n",
       "4295           FDL13       13.850          Regular         0.056308   \n",
       "...              ...          ...              ...              ...   \n",
       "5668           FDC44       15.600          Low Fat         0.288892   \n",
       "5670           FDO03       10.395          Regular         0.037092   \n",
       "5678           NCO17       10.000          Low Fat         0.073529   \n",
       "5679           FDJ26       15.300          Regular         0.000000   \n",
       "5680           FDU37        9.500          Regular         0.104720   \n",
       "\n",
       "                  Item_Type  Item_MRP Outlet_Identifier  \\\n",
       "2846            Snack Foods   38.3848            OUT046   \n",
       "1953                   Meat   52.4324            OUT046   \n",
       "4288            Soft Drinks   93.4436            OUT019   \n",
       "4292           Baking Goods   77.9960            OUT035   \n",
       "4295              Breakfast  231.8300            OUT035   \n",
       "...                     ...       ...               ...   \n",
       "5668  Fruits and Vegetables  115.1518            OUT010   \n",
       "5670                   Meat  229.4352            OUT017   \n",
       "5678     Health and Hygiene  118.7440            OUT045   \n",
       "5679                 Canned  214.6218            OUT017   \n",
       "5680                 Canned   79.7960            OUT045   \n",
       "\n",
       "      Outlet_Establishment_Year Outlet_Size Outlet_Location_Type  \\\n",
       "2846                       1997       Small               Tier 1   \n",
       "1953                       1997       Small               Tier 1   \n",
       "4288                       1985       Small               Tier 1   \n",
       "4292                       2004       Small               Tier 2   \n",
       "4295                       2004       Small               Tier 2   \n",
       "...                         ...         ...                  ...   \n",
       "5668                       1998         NaN               Tier 3   \n",
       "5670                       2007         NaN               Tier 2   \n",
       "5678                       2002         NaN               Tier 2   \n",
       "5679                       2007         NaN               Tier 2   \n",
       "5680                       2002         NaN               Tier 2   \n",
       "\n",
       "            Outlet_Type  \n",
       "2846  Supermarket Type1  \n",
       "1953  Supermarket Type1  \n",
       "4288      Grocery Store  \n",
       "4292  Supermarket Type1  \n",
       "4295  Supermarket Type1  \n",
       "...                 ...  \n",
       "5668      Grocery Store  \n",
       "5670  Supermarket Type1  \n",
       "5678  Supermarket Type1  \n",
       "5679  Supermarket Type1  \n",
       "5680  Supermarket Type1  \n",
       "\n",
       "[5681 rows x 11 columns]"
      ]
     },
     "execution_count": 14,
     "metadata": {},
     "output_type": "execute_result"
    }
   ],
   "source": [
    "naru.sort_values(\"Outlet_Size\",ascending = [False])"
   ]
  },
  {
   "cell_type": "code",
   "execution_count": 15,
   "id": "4c008494",
   "metadata": {},
   "outputs": [
    {
     "name": "stdout",
     "output_type": "stream",
     "text": [
      "<class 'pandas.core.frame.DataFrame'>\n",
      "RangeIndex: 5681 entries, 0 to 5680\n",
      "Data columns (total 11 columns):\n",
      " #   Column                     Non-Null Count  Dtype  \n",
      "---  ------                     --------------  -----  \n",
      " 0   Item_Identifier            5681 non-null   object \n",
      " 1   Item_Weight                4705 non-null   float64\n",
      " 2   Item_Fat_Content           5681 non-null   object \n",
      " 3   Item_Visibility            5681 non-null   float64\n",
      " 4   Item_Type                  5681 non-null   object \n",
      " 5   Item_MRP                   5681 non-null   float64\n",
      " 6   Outlet_Identifier          5681 non-null   object \n",
      " 7   Outlet_Establishment_Year  5681 non-null   int64  \n",
      " 8   Outlet_Size                4075 non-null   object \n",
      " 9   Outlet_Location_Type       5681 non-null   object \n",
      " 10  Outlet_Type                5681 non-null   object \n",
      "dtypes: float64(3), int64(1), object(7)\n",
      "memory usage: 488.3+ KB\n"
     ]
    }
   ],
   "source": [
    "naru.info()"
   ]
  },
  {
   "cell_type": "code",
   "execution_count": 16,
   "id": "5796f31e",
   "metadata": {},
   "outputs": [
    {
     "data": {
      "text/html": [
       "<div>\n",
       "<style scoped>\n",
       "    .dataframe tbody tr th:only-of-type {\n",
       "        vertical-align: middle;\n",
       "    }\n",
       "\n",
       "    .dataframe tbody tr th {\n",
       "        vertical-align: top;\n",
       "    }\n",
       "\n",
       "    .dataframe thead th {\n",
       "        text-align: right;\n",
       "    }\n",
       "</style>\n",
       "<table border=\"1\" class=\"dataframe\">\n",
       "  <thead>\n",
       "    <tr style=\"text-align: right;\">\n",
       "      <th></th>\n",
       "      <th>Item_Weight</th>\n",
       "      <th>Item_Visibility</th>\n",
       "      <th>Item_MRP</th>\n",
       "      <th>Outlet_Establishment_Year</th>\n",
       "    </tr>\n",
       "  </thead>\n",
       "  <tbody>\n",
       "    <tr>\n",
       "      <th>count</th>\n",
       "      <td>4705.000000</td>\n",
       "      <td>5681.000000</td>\n",
       "      <td>5681.000000</td>\n",
       "      <td>5681.000000</td>\n",
       "    </tr>\n",
       "    <tr>\n",
       "      <th>mean</th>\n",
       "      <td>12.695633</td>\n",
       "      <td>0.065684</td>\n",
       "      <td>141.023273</td>\n",
       "      <td>1997.828903</td>\n",
       "    </tr>\n",
       "    <tr>\n",
       "      <th>std</th>\n",
       "      <td>4.664849</td>\n",
       "      <td>0.051252</td>\n",
       "      <td>61.809091</td>\n",
       "      <td>8.372256</td>\n",
       "    </tr>\n",
       "    <tr>\n",
       "      <th>min</th>\n",
       "      <td>4.555000</td>\n",
       "      <td>0.000000</td>\n",
       "      <td>31.990000</td>\n",
       "      <td>1985.000000</td>\n",
       "    </tr>\n",
       "    <tr>\n",
       "      <th>25%</th>\n",
       "      <td>8.645000</td>\n",
       "      <td>0.027047</td>\n",
       "      <td>94.412000</td>\n",
       "      <td>1987.000000</td>\n",
       "    </tr>\n",
       "    <tr>\n",
       "      <th>50%</th>\n",
       "      <td>12.500000</td>\n",
       "      <td>0.054154</td>\n",
       "      <td>141.415400</td>\n",
       "      <td>1999.000000</td>\n",
       "    </tr>\n",
       "    <tr>\n",
       "      <th>75%</th>\n",
       "      <td>16.700000</td>\n",
       "      <td>0.093463</td>\n",
       "      <td>186.026600</td>\n",
       "      <td>2004.000000</td>\n",
       "    </tr>\n",
       "    <tr>\n",
       "      <th>max</th>\n",
       "      <td>21.350000</td>\n",
       "      <td>0.323637</td>\n",
       "      <td>266.588400</td>\n",
       "      <td>2009.000000</td>\n",
       "    </tr>\n",
       "  </tbody>\n",
       "</table>\n",
       "</div>"
      ],
      "text/plain": [
       "       Item_Weight  Item_Visibility     Item_MRP  Outlet_Establishment_Year\n",
       "count  4705.000000      5681.000000  5681.000000                5681.000000\n",
       "mean     12.695633         0.065684   141.023273                1997.828903\n",
       "std       4.664849         0.051252    61.809091                   8.372256\n",
       "min       4.555000         0.000000    31.990000                1985.000000\n",
       "25%       8.645000         0.027047    94.412000                1987.000000\n",
       "50%      12.500000         0.054154   141.415400                1999.000000\n",
       "75%      16.700000         0.093463   186.026600                2004.000000\n",
       "max      21.350000         0.323637   266.588400                2009.000000"
      ]
     },
     "execution_count": 16,
     "metadata": {},
     "output_type": "execute_result"
    }
   ],
   "source": [
    "naru.describe()"
   ]
  },
  {
   "cell_type": "code",
   "execution_count": 17,
   "id": "e7a110de",
   "metadata": {},
   "outputs": [
    {
     "data": {
      "text/plain": [
       "Item_Type\n",
       "Snack Foods              115875.6350\n",
       "Dairy                     65977.9536\n",
       "Others                    14996.7216\n",
       "Fruits and Vegetables    112360.3474\n",
       "Baking Goods              56524.9092\n",
       "Health and Hygiene        46180.8928\n",
       "Breads                    23439.0574\n",
       "Hard Drinks               20366.1246\n",
       "Seafood                    3496.8288\n",
       "Soft Drinks               39788.9400\n",
       "Household                 94267.5778\n",
       "Frozen Foods              76043.6098\n",
       "Meat                      43804.4162\n",
       "Canned                    59558.3676\n",
       "Starchy Foods             18403.2384\n",
       "Breakfast                 10068.5960\n",
       "Name: Item_MRP, dtype: float64"
      ]
     },
     "execution_count": 17,
     "metadata": {},
     "output_type": "execute_result"
    }
   ],
   "source": [
    "naru.groupby(\"Item_Type\",sort=False)[\"Item_MRP\"].sum()"
   ]
  },
  {
   "cell_type": "code",
   "execution_count": 18,
   "id": "7f7cf719",
   "metadata": {},
   "outputs": [],
   "source": [
    "fresh = naru[naru[\"Outlet_Establishment_Year\"] > 2008]\n"
   ]
  },
  {
   "cell_type": "code",
   "execution_count": 19,
   "id": "935bce52",
   "metadata": {
    "scrolled": true
   },
   "outputs": [
    {
     "data": {
      "text/plain": [
       "(618, 11)"
      ]
     },
     "execution_count": 19,
     "metadata": {},
     "output_type": "execute_result"
    }
   ],
   "source": [
    "fresh.shape"
   ]
  },
  {
   "cell_type": "markdown",
   "id": "b560d2d5",
   "metadata": {},
   "source": [
    "## Cleaning Data"
   ]
  },
  {
   "cell_type": "code",
   "execution_count": 20,
   "id": "88b01647",
   "metadata": {},
   "outputs": [
    {
     "data": {
      "text/html": [
       "<div>\n",
       "<style scoped>\n",
       "    .dataframe tbody tr th:only-of-type {\n",
       "        vertical-align: middle;\n",
       "    }\n",
       "\n",
       "    .dataframe tbody tr th {\n",
       "        vertical-align: top;\n",
       "    }\n",
       "\n",
       "    .dataframe thead th {\n",
       "        text-align: right;\n",
       "    }\n",
       "</style>\n",
       "<table border=\"1\" class=\"dataframe\">\n",
       "  <thead>\n",
       "    <tr style=\"text-align: right;\">\n",
       "      <th></th>\n",
       "      <th>Item_Identifier</th>\n",
       "      <th>Item_Weight</th>\n",
       "      <th>Item_Fat_Content</th>\n",
       "      <th>Item_Visibility</th>\n",
       "      <th>Item_Type</th>\n",
       "      <th>Item_MRP</th>\n",
       "      <th>Outlet_Identifier</th>\n",
       "      <th>Outlet_Establishment_Year</th>\n",
       "      <th>Outlet_Size</th>\n",
       "      <th>Outlet_Location_Type</th>\n",
       "      <th>Outlet_Type</th>\n",
       "    </tr>\n",
       "  </thead>\n",
       "  <tbody>\n",
       "    <tr>\n",
       "      <th>0</th>\n",
       "      <td>False</td>\n",
       "      <td>False</td>\n",
       "      <td>False</td>\n",
       "      <td>False</td>\n",
       "      <td>False</td>\n",
       "      <td>False</td>\n",
       "      <td>False</td>\n",
       "      <td>False</td>\n",
       "      <td>False</td>\n",
       "      <td>False</td>\n",
       "      <td>False</td>\n",
       "    </tr>\n",
       "    <tr>\n",
       "      <th>1</th>\n",
       "      <td>False</td>\n",
       "      <td>False</td>\n",
       "      <td>False</td>\n",
       "      <td>False</td>\n",
       "      <td>False</td>\n",
       "      <td>False</td>\n",
       "      <td>False</td>\n",
       "      <td>False</td>\n",
       "      <td>True</td>\n",
       "      <td>False</td>\n",
       "      <td>False</td>\n",
       "    </tr>\n",
       "    <tr>\n",
       "      <th>2</th>\n",
       "      <td>False</td>\n",
       "      <td>False</td>\n",
       "      <td>False</td>\n",
       "      <td>False</td>\n",
       "      <td>False</td>\n",
       "      <td>False</td>\n",
       "      <td>False</td>\n",
       "      <td>False</td>\n",
       "      <td>True</td>\n",
       "      <td>False</td>\n",
       "      <td>False</td>\n",
       "    </tr>\n",
       "    <tr>\n",
       "      <th>3</th>\n",
       "      <td>False</td>\n",
       "      <td>False</td>\n",
       "      <td>False</td>\n",
       "      <td>False</td>\n",
       "      <td>False</td>\n",
       "      <td>False</td>\n",
       "      <td>False</td>\n",
       "      <td>False</td>\n",
       "      <td>True</td>\n",
       "      <td>False</td>\n",
       "      <td>False</td>\n",
       "    </tr>\n",
       "    <tr>\n",
       "      <th>4</th>\n",
       "      <td>False</td>\n",
       "      <td>True</td>\n",
       "      <td>False</td>\n",
       "      <td>False</td>\n",
       "      <td>False</td>\n",
       "      <td>False</td>\n",
       "      <td>False</td>\n",
       "      <td>False</td>\n",
       "      <td>False</td>\n",
       "      <td>False</td>\n",
       "      <td>False</td>\n",
       "    </tr>\n",
       "    <tr>\n",
       "      <th>...</th>\n",
       "      <td>...</td>\n",
       "      <td>...</td>\n",
       "      <td>...</td>\n",
       "      <td>...</td>\n",
       "      <td>...</td>\n",
       "      <td>...</td>\n",
       "      <td>...</td>\n",
       "      <td>...</td>\n",
       "      <td>...</td>\n",
       "      <td>...</td>\n",
       "      <td>...</td>\n",
       "    </tr>\n",
       "    <tr>\n",
       "      <th>5676</th>\n",
       "      <td>False</td>\n",
       "      <td>False</td>\n",
       "      <td>False</td>\n",
       "      <td>False</td>\n",
       "      <td>False</td>\n",
       "      <td>False</td>\n",
       "      <td>False</td>\n",
       "      <td>False</td>\n",
       "      <td>False</td>\n",
       "      <td>False</td>\n",
       "      <td>False</td>\n",
       "    </tr>\n",
       "    <tr>\n",
       "      <th>5677</th>\n",
       "      <td>False</td>\n",
       "      <td>False</td>\n",
       "      <td>False</td>\n",
       "      <td>False</td>\n",
       "      <td>False</td>\n",
       "      <td>False</td>\n",
       "      <td>False</td>\n",
       "      <td>False</td>\n",
       "      <td>False</td>\n",
       "      <td>False</td>\n",
       "      <td>False</td>\n",
       "    </tr>\n",
       "    <tr>\n",
       "      <th>5678</th>\n",
       "      <td>False</td>\n",
       "      <td>False</td>\n",
       "      <td>False</td>\n",
       "      <td>False</td>\n",
       "      <td>False</td>\n",
       "      <td>False</td>\n",
       "      <td>False</td>\n",
       "      <td>False</td>\n",
       "      <td>True</td>\n",
       "      <td>False</td>\n",
       "      <td>False</td>\n",
       "    </tr>\n",
       "    <tr>\n",
       "      <th>5679</th>\n",
       "      <td>False</td>\n",
       "      <td>False</td>\n",
       "      <td>False</td>\n",
       "      <td>False</td>\n",
       "      <td>False</td>\n",
       "      <td>False</td>\n",
       "      <td>False</td>\n",
       "      <td>False</td>\n",
       "      <td>True</td>\n",
       "      <td>False</td>\n",
       "      <td>False</td>\n",
       "    </tr>\n",
       "    <tr>\n",
       "      <th>5680</th>\n",
       "      <td>False</td>\n",
       "      <td>False</td>\n",
       "      <td>False</td>\n",
       "      <td>False</td>\n",
       "      <td>False</td>\n",
       "      <td>False</td>\n",
       "      <td>False</td>\n",
       "      <td>False</td>\n",
       "      <td>True</td>\n",
       "      <td>False</td>\n",
       "      <td>False</td>\n",
       "    </tr>\n",
       "  </tbody>\n",
       "</table>\n",
       "<p>5681 rows × 11 columns</p>\n",
       "</div>"
      ],
      "text/plain": [
       "      Item_Identifier  Item_Weight  Item_Fat_Content  Item_Visibility  \\\n",
       "0               False        False             False            False   \n",
       "1               False        False             False            False   \n",
       "2               False        False             False            False   \n",
       "3               False        False             False            False   \n",
       "4               False         True             False            False   \n",
       "...               ...          ...               ...              ...   \n",
       "5676            False        False             False            False   \n",
       "5677            False        False             False            False   \n",
       "5678            False        False             False            False   \n",
       "5679            False        False             False            False   \n",
       "5680            False        False             False            False   \n",
       "\n",
       "      Item_Type  Item_MRP  Outlet_Identifier  Outlet_Establishment_Year  \\\n",
       "0         False     False              False                      False   \n",
       "1         False     False              False                      False   \n",
       "2         False     False              False                      False   \n",
       "3         False     False              False                      False   \n",
       "4         False     False              False                      False   \n",
       "...         ...       ...                ...                        ...   \n",
       "5676      False     False              False                      False   \n",
       "5677      False     False              False                      False   \n",
       "5678      False     False              False                      False   \n",
       "5679      False     False              False                      False   \n",
       "5680      False     False              False                      False   \n",
       "\n",
       "      Outlet_Size  Outlet_Location_Type  Outlet_Type  \n",
       "0           False                 False        False  \n",
       "1            True                 False        False  \n",
       "2            True                 False        False  \n",
       "3            True                 False        False  \n",
       "4           False                 False        False  \n",
       "...           ...                   ...          ...  \n",
       "5676        False                 False        False  \n",
       "5677        False                 False        False  \n",
       "5678         True                 False        False  \n",
       "5679         True                 False        False  \n",
       "5680         True                 False        False  \n",
       "\n",
       "[5681 rows x 11 columns]"
      ]
     },
     "execution_count": 20,
     "metadata": {},
     "output_type": "execute_result"
    }
   ],
   "source": [
    "\n",
    "naru.isnull()"
   ]
  },
  {
   "cell_type": "code",
   "execution_count": 21,
   "id": "1237ba26",
   "metadata": {},
   "outputs": [
    {
     "data": {
      "text/plain": [
       "Item_Identifier                 0\n",
       "Item_Weight                   976\n",
       "Item_Fat_Content                0\n",
       "Item_Visibility                 0\n",
       "Item_Type                       0\n",
       "Item_MRP                        0\n",
       "Outlet_Identifier               0\n",
       "Outlet_Establishment_Year       0\n",
       "Outlet_Size                  1606\n",
       "Outlet_Location_Type            0\n",
       "Outlet_Type                     0\n",
       "dtype: int64"
      ]
     },
     "execution_count": 21,
     "metadata": {},
     "output_type": "execute_result"
    }
   ],
   "source": [
    "naru.isnull().sum()"
   ]
  },
  {
   "cell_type": "markdown",
   "id": "4a1f2bb8",
   "metadata": {},
   "source": [
    "## Filling null values"
   ]
  },
  {
   "cell_type": "code",
   "execution_count": 22,
   "id": "ba9dee95",
   "metadata": {},
   "outputs": [],
   "source": [
    "naru2 = naru.fillna(method = \"pad\") #filling null values with previous value"
   ]
  },
  {
   "cell_type": "code",
   "execution_count": 23,
   "id": "0d133579",
   "metadata": {},
   "outputs": [
    {
     "data": {
      "text/plain": [
       "Item_Identifier              0\n",
       "Item_Weight                  0\n",
       "Item_Fat_Content             0\n",
       "Item_Visibility              0\n",
       "Item_Type                    0\n",
       "Item_MRP                     0\n",
       "Outlet_Identifier            0\n",
       "Outlet_Establishment_Year    0\n",
       "Outlet_Size                  0\n",
       "Outlet_Location_Type         0\n",
       "Outlet_Type                  0\n",
       "dtype: int64"
      ]
     },
     "execution_count": 23,
     "metadata": {},
     "output_type": "execute_result"
    }
   ],
   "source": [
    "naru2.isnull().sum()"
   ]
  },
  {
   "cell_type": "code",
   "execution_count": 24,
   "id": "0eb28edc",
   "metadata": {},
   "outputs": [],
   "source": [
    "naru3 = naru2.fillna(value = naru2['Item_Weight'].mean())"
   ]
  },
  {
   "cell_type": "code",
   "execution_count": 25,
   "id": "9c6be229",
   "metadata": {},
   "outputs": [
    {
     "data": {
      "text/html": [
       "<div>\n",
       "<style scoped>\n",
       "    .dataframe tbody tr th:only-of-type {\n",
       "        vertical-align: middle;\n",
       "    }\n",
       "\n",
       "    .dataframe tbody tr th {\n",
       "        vertical-align: top;\n",
       "    }\n",
       "\n",
       "    .dataframe thead th {\n",
       "        text-align: right;\n",
       "    }\n",
       "</style>\n",
       "<table border=\"1\" class=\"dataframe\">\n",
       "  <thead>\n",
       "    <tr style=\"text-align: right;\">\n",
       "      <th></th>\n",
       "      <th>Item_Identifier</th>\n",
       "      <th>Item_Weight</th>\n",
       "      <th>Item_Fat_Content</th>\n",
       "      <th>Item_Visibility</th>\n",
       "      <th>Item_Type</th>\n",
       "      <th>Item_MRP</th>\n",
       "      <th>Outlet_Identifier</th>\n",
       "      <th>Outlet_Establishment_Year</th>\n",
       "      <th>Outlet_Size</th>\n",
       "      <th>Outlet_Location_Type</th>\n",
       "      <th>Outlet_Type</th>\n",
       "    </tr>\n",
       "  </thead>\n",
       "  <tbody>\n",
       "    <tr>\n",
       "      <th>0</th>\n",
       "      <td>FDW58</td>\n",
       "      <td>20.750</td>\n",
       "      <td>Low Fat</td>\n",
       "      <td>0.007565</td>\n",
       "      <td>Snack Foods</td>\n",
       "      <td>107.8622</td>\n",
       "      <td>OUT049</td>\n",
       "      <td>1999</td>\n",
       "      <td>Medium</td>\n",
       "      <td>Tier 1</td>\n",
       "      <td>Supermarket Type1</td>\n",
       "    </tr>\n",
       "    <tr>\n",
       "      <th>1</th>\n",
       "      <td>FDW14</td>\n",
       "      <td>8.300</td>\n",
       "      <td>reg</td>\n",
       "      <td>0.038428</td>\n",
       "      <td>Dairy</td>\n",
       "      <td>87.3198</td>\n",
       "      <td>OUT017</td>\n",
       "      <td>2007</td>\n",
       "      <td>Medium</td>\n",
       "      <td>Tier 2</td>\n",
       "      <td>Supermarket Type1</td>\n",
       "    </tr>\n",
       "    <tr>\n",
       "      <th>2</th>\n",
       "      <td>NCN55</td>\n",
       "      <td>14.600</td>\n",
       "      <td>Low Fat</td>\n",
       "      <td>0.099575</td>\n",
       "      <td>Others</td>\n",
       "      <td>241.7538</td>\n",
       "      <td>OUT010</td>\n",
       "      <td>1998</td>\n",
       "      <td>Medium</td>\n",
       "      <td>Tier 3</td>\n",
       "      <td>Grocery Store</td>\n",
       "    </tr>\n",
       "    <tr>\n",
       "      <th>3</th>\n",
       "      <td>FDQ58</td>\n",
       "      <td>7.315</td>\n",
       "      <td>Low Fat</td>\n",
       "      <td>0.015388</td>\n",
       "      <td>Snack Foods</td>\n",
       "      <td>155.0340</td>\n",
       "      <td>OUT017</td>\n",
       "      <td>2007</td>\n",
       "      <td>Medium</td>\n",
       "      <td>Tier 2</td>\n",
       "      <td>Supermarket Type1</td>\n",
       "    </tr>\n",
       "    <tr>\n",
       "      <th>4</th>\n",
       "      <td>FDY38</td>\n",
       "      <td>7.315</td>\n",
       "      <td>Regular</td>\n",
       "      <td>0.118599</td>\n",
       "      <td>Dairy</td>\n",
       "      <td>234.2300</td>\n",
       "      <td>OUT027</td>\n",
       "      <td>1985</td>\n",
       "      <td>Medium</td>\n",
       "      <td>Tier 3</td>\n",
       "      <td>Supermarket Type3</td>\n",
       "    </tr>\n",
       "  </tbody>\n",
       "</table>\n",
       "</div>"
      ],
      "text/plain": [
       "  Item_Identifier  Item_Weight Item_Fat_Content  Item_Visibility    Item_Type  \\\n",
       "0           FDW58       20.750          Low Fat         0.007565  Snack Foods   \n",
       "1           FDW14        8.300              reg         0.038428        Dairy   \n",
       "2           NCN55       14.600          Low Fat         0.099575       Others   \n",
       "3           FDQ58        7.315          Low Fat         0.015388  Snack Foods   \n",
       "4           FDY38        7.315          Regular         0.118599        Dairy   \n",
       "\n",
       "   Item_MRP Outlet_Identifier  Outlet_Establishment_Year Outlet_Size  \\\n",
       "0  107.8622            OUT049                       1999      Medium   \n",
       "1   87.3198            OUT017                       2007      Medium   \n",
       "2  241.7538            OUT010                       1998      Medium   \n",
       "3  155.0340            OUT017                       2007      Medium   \n",
       "4  234.2300            OUT027                       1985      Medium   \n",
       "\n",
       "  Outlet_Location_Type        Outlet_Type  \n",
       "0               Tier 1  Supermarket Type1  \n",
       "1               Tier 2  Supermarket Type1  \n",
       "2               Tier 3      Grocery Store  \n",
       "3               Tier 2  Supermarket Type1  \n",
       "4               Tier 3  Supermarket Type3  "
      ]
     },
     "execution_count": 25,
     "metadata": {},
     "output_type": "execute_result"
    }
   ],
   "source": [
    "naru3.head()"
   ]
  },
  {
   "cell_type": "code",
   "execution_count": 26,
   "id": "dc465409",
   "metadata": {},
   "outputs": [
    {
     "data": {
      "text/html": [
       "<div>\n",
       "<style scoped>\n",
       "    .dataframe tbody tr th:only-of-type {\n",
       "        vertical-align: middle;\n",
       "    }\n",
       "\n",
       "    .dataframe tbody tr th {\n",
       "        vertical-align: top;\n",
       "    }\n",
       "\n",
       "    .dataframe thead th {\n",
       "        text-align: right;\n",
       "    }\n",
       "</style>\n",
       "<table border=\"1\" class=\"dataframe\">\n",
       "  <thead>\n",
       "    <tr style=\"text-align: right;\">\n",
       "      <th></th>\n",
       "      <th>Item_Identifier</th>\n",
       "      <th>Item_Weight</th>\n",
       "      <th>Item_Fat_Content</th>\n",
       "      <th>Item_Visibility</th>\n",
       "      <th>Item_Type</th>\n",
       "      <th>Item_MRP</th>\n",
       "      <th>Outlet_Identifier</th>\n",
       "      <th>Outlet_Establishment_Year</th>\n",
       "      <th>Outlet_Size</th>\n",
       "      <th>Outlet_Location_Type</th>\n",
       "      <th>Outlet_Type</th>\n",
       "    </tr>\n",
       "  </thead>\n",
       "  <tbody>\n",
       "    <tr>\n",
       "      <th>0</th>\n",
       "      <td>FDW58</td>\n",
       "      <td>20.750</td>\n",
       "      <td>Low Fat</td>\n",
       "      <td>0.007565</td>\n",
       "      <td>Snack Foods</td>\n",
       "      <td>107.8622</td>\n",
       "      <td>OUT049</td>\n",
       "      <td>1999</td>\n",
       "      <td>Medium</td>\n",
       "      <td>Tier 1</td>\n",
       "      <td>Supermarket Type1</td>\n",
       "    </tr>\n",
       "    <tr>\n",
       "      <th>1</th>\n",
       "      <td>FDW14</td>\n",
       "      <td>8.300</td>\n",
       "      <td>reg</td>\n",
       "      <td>0.038428</td>\n",
       "      <td>Dairy</td>\n",
       "      <td>87.3198</td>\n",
       "      <td>OUT017</td>\n",
       "      <td>2007</td>\n",
       "      <td>Medium</td>\n",
       "      <td>Tier 2</td>\n",
       "      <td>Supermarket Type1</td>\n",
       "    </tr>\n",
       "    <tr>\n",
       "      <th>2</th>\n",
       "      <td>NCN55</td>\n",
       "      <td>14.600</td>\n",
       "      <td>Low Fat</td>\n",
       "      <td>0.099575</td>\n",
       "      <td>Others</td>\n",
       "      <td>241.7538</td>\n",
       "      <td>OUT010</td>\n",
       "      <td>1998</td>\n",
       "      <td>Medium</td>\n",
       "      <td>Tier 3</td>\n",
       "      <td>Grocery Store</td>\n",
       "    </tr>\n",
       "    <tr>\n",
       "      <th>3</th>\n",
       "      <td>FDQ58</td>\n",
       "      <td>7.315</td>\n",
       "      <td>Low Fat</td>\n",
       "      <td>0.015388</td>\n",
       "      <td>Snack Foods</td>\n",
       "      <td>155.0340</td>\n",
       "      <td>OUT017</td>\n",
       "      <td>2007</td>\n",
       "      <td>Medium</td>\n",
       "      <td>Tier 2</td>\n",
       "      <td>Supermarket Type1</td>\n",
       "    </tr>\n",
       "    <tr>\n",
       "      <th>4</th>\n",
       "      <td>FDY38</td>\n",
       "      <td>7.315</td>\n",
       "      <td>Regular</td>\n",
       "      <td>0.118599</td>\n",
       "      <td>Dairy</td>\n",
       "      <td>234.2300</td>\n",
       "      <td>OUT027</td>\n",
       "      <td>1985</td>\n",
       "      <td>Medium</td>\n",
       "      <td>Tier 3</td>\n",
       "      <td>Supermarket Type3</td>\n",
       "    </tr>\n",
       "    <tr>\n",
       "      <th>5</th>\n",
       "      <td>FDH56</td>\n",
       "      <td>9.800</td>\n",
       "      <td>Regular</td>\n",
       "      <td>0.063817</td>\n",
       "      <td>Fruits and Vegetables</td>\n",
       "      <td>117.1492</td>\n",
       "      <td>OUT046</td>\n",
       "      <td>1997</td>\n",
       "      <td>Small</td>\n",
       "      <td>Tier 1</td>\n",
       "      <td>Supermarket Type1</td>\n",
       "    </tr>\n",
       "    <tr>\n",
       "      <th>6</th>\n",
       "      <td>FDL48</td>\n",
       "      <td>19.350</td>\n",
       "      <td>Regular</td>\n",
       "      <td>0.082602</td>\n",
       "      <td>Baking Goods</td>\n",
       "      <td>50.1034</td>\n",
       "      <td>OUT018</td>\n",
       "      <td>2009</td>\n",
       "      <td>Medium</td>\n",
       "      <td>Tier 3</td>\n",
       "      <td>Supermarket Type2</td>\n",
       "    </tr>\n",
       "    <tr>\n",
       "      <th>7</th>\n",
       "      <td>FDC48</td>\n",
       "      <td>19.350</td>\n",
       "      <td>Low Fat</td>\n",
       "      <td>0.015782</td>\n",
       "      <td>Baking Goods</td>\n",
       "      <td>81.0592</td>\n",
       "      <td>OUT027</td>\n",
       "      <td>1985</td>\n",
       "      <td>Medium</td>\n",
       "      <td>Tier 3</td>\n",
       "      <td>Supermarket Type3</td>\n",
       "    </tr>\n",
       "    <tr>\n",
       "      <th>8</th>\n",
       "      <td>FDN33</td>\n",
       "      <td>6.305</td>\n",
       "      <td>Regular</td>\n",
       "      <td>0.123365</td>\n",
       "      <td>Snack Foods</td>\n",
       "      <td>95.7436</td>\n",
       "      <td>OUT045</td>\n",
       "      <td>2002</td>\n",
       "      <td>Medium</td>\n",
       "      <td>Tier 2</td>\n",
       "      <td>Supermarket Type1</td>\n",
       "    </tr>\n",
       "    <tr>\n",
       "      <th>9</th>\n",
       "      <td>FDA36</td>\n",
       "      <td>5.985</td>\n",
       "      <td>Low Fat</td>\n",
       "      <td>0.005698</td>\n",
       "      <td>Baking Goods</td>\n",
       "      <td>186.8924</td>\n",
       "      <td>OUT017</td>\n",
       "      <td>2007</td>\n",
       "      <td>Medium</td>\n",
       "      <td>Tier 2</td>\n",
       "      <td>Supermarket Type1</td>\n",
       "    </tr>\n",
       "  </tbody>\n",
       "</table>\n",
       "</div>"
      ],
      "text/plain": [
       "  Item_Identifier  Item_Weight Item_Fat_Content  Item_Visibility  \\\n",
       "0           FDW58       20.750          Low Fat         0.007565   \n",
       "1           FDW14        8.300              reg         0.038428   \n",
       "2           NCN55       14.600          Low Fat         0.099575   \n",
       "3           FDQ58        7.315          Low Fat         0.015388   \n",
       "4           FDY38        7.315          Regular         0.118599   \n",
       "5           FDH56        9.800          Regular         0.063817   \n",
       "6           FDL48       19.350          Regular         0.082602   \n",
       "7           FDC48       19.350          Low Fat         0.015782   \n",
       "8           FDN33        6.305          Regular         0.123365   \n",
       "9           FDA36        5.985          Low Fat         0.005698   \n",
       "\n",
       "               Item_Type  Item_MRP Outlet_Identifier  \\\n",
       "0            Snack Foods  107.8622            OUT049   \n",
       "1                  Dairy   87.3198            OUT017   \n",
       "2                 Others  241.7538            OUT010   \n",
       "3            Snack Foods  155.0340            OUT017   \n",
       "4                  Dairy  234.2300            OUT027   \n",
       "5  Fruits and Vegetables  117.1492            OUT046   \n",
       "6           Baking Goods   50.1034            OUT018   \n",
       "7           Baking Goods   81.0592            OUT027   \n",
       "8            Snack Foods   95.7436            OUT045   \n",
       "9           Baking Goods  186.8924            OUT017   \n",
       "\n",
       "   Outlet_Establishment_Year Outlet_Size Outlet_Location_Type  \\\n",
       "0                       1999      Medium               Tier 1   \n",
       "1                       2007      Medium               Tier 2   \n",
       "2                       1998      Medium               Tier 3   \n",
       "3                       2007      Medium               Tier 2   \n",
       "4                       1985      Medium               Tier 3   \n",
       "5                       1997       Small               Tier 1   \n",
       "6                       2009      Medium               Tier 3   \n",
       "7                       1985      Medium               Tier 3   \n",
       "8                       2002      Medium               Tier 2   \n",
       "9                       2007      Medium               Tier 2   \n",
       "\n",
       "         Outlet_Type  \n",
       "0  Supermarket Type1  \n",
       "1  Supermarket Type1  \n",
       "2      Grocery Store  \n",
       "3  Supermarket Type1  \n",
       "4  Supermarket Type3  \n",
       "5  Supermarket Type1  \n",
       "6  Supermarket Type2  \n",
       "7  Supermarket Type3  \n",
       "8  Supermarket Type1  \n",
       "9  Supermarket Type1  "
      ]
     },
     "execution_count": 26,
     "metadata": {},
     "output_type": "execute_result"
    }
   ],
   "source": [
    "naru3.head(10)"
   ]
  },
  {
   "cell_type": "markdown",
   "id": "c9a7212e",
   "metadata": {},
   "source": [
    "## Exploratory Data Analysis "
   ]
  },
  {
   "cell_type": "code",
   "execution_count": 27,
   "id": "437744eb",
   "metadata": {},
   "outputs": [],
   "source": [
    "# Handling duplicates "
   ]
  },
  {
   "cell_type": "code",
   "execution_count": 28,
   "id": "5022a5a5",
   "metadata": {},
   "outputs": [],
   "source": [
    "Dupli = naru.duplicated()"
   ]
  },
  {
   "cell_type": "code",
   "execution_count": 29,
   "id": "4f09cb0e",
   "metadata": {},
   "outputs": [
    {
     "name": "stdout",
     "output_type": "stream",
     "text": [
      "0\n"
     ]
    }
   ],
   "source": [
    "print(Dupli.sum())"
   ]
  },
  {
   "cell_type": "code",
   "execution_count": 30,
   "id": "fd1df83c",
   "metadata": {},
   "outputs": [
    {
     "data": {
      "image/png": "[encoded data removed]",
      "text/plain": [
       "<Figure size 432x288 with 1 Axes>"
      ]
     },
     "metadata": {
      "needs_background": "light"
     },
     "output_type": "display_data"
    }
   ],
   "source": [
    "naru.boxplot(column=[\"Item_Weight\"])\n",
    "plt.show() #There is no outlier in this column"
   ]
  },
  {
   "cell_type": "code",
   "execution_count": 31,
   "id": "ed35f9a8",
   "metadata": {},
   "outputs": [
    {
     "data": {
      "image/png": "[encoded data removed]",
      "text/plain": [
       "<Figure size 432x288 with 1 Axes>"
      ]
     },
     "metadata": {
      "needs_background": "light"
     },
     "output_type": "display_data"
    }
   ],
   "source": [
    "naru.boxplot(column=[\"Item_MRP\"])\n",
    "plt.show()"
   ]
  },
  {
   "cell_type": "code",
   "execution_count": 32,
   "id": "df86d5fc",
   "metadata": {},
   "outputs": [
    {
     "data": {
      "image/png": "[encoded data removed]",
      "text/plain": [
       "<Figure size 432x288 with 1 Axes>"
      ]
     },
     "metadata": {
      "needs_background": "light"
     },
     "output_type": "display_data"
    }
   ],
   "source": [
    "naru.boxplot(column=[\"Item_Visibility\"])\n",
    "plt.show() #There are outliers in this column"
   ]
  },
  {
   "cell_type": "markdown",
   "id": "f31c85ab",
   "metadata": {},
   "source": [
    "## Removing outliers"
   ]
  },
  {
   "cell_type": "code",
   "execution_count": 33,
   "id": "97862c18",
   "metadata": {},
   "outputs": [
    {
     "data": {
      "text/plain": [
       "0.06568385968808292"
      ]
     },
     "execution_count": 33,
     "metadata": {},
     "output_type": "execute_result"
    }
   ],
   "source": [
    "naru[\"Item_Visibility\"].mean()"
   ]
  },
  {
   "cell_type": "code",
   "execution_count": 34,
   "id": "b8d3d520",
   "metadata": {},
   "outputs": [],
   "source": [
    "out = naru[naru[\"Item_Visibility\"]<0.18]"
   ]
  },
  {
   "cell_type": "code",
   "execution_count": 35,
   "id": "f177aadd",
   "metadata": {},
   "outputs": [
    {
     "data": {
      "image/png": "[encoded data removed]",
      "text/plain": [
       "<Figure size 432x288 with 1 Axes>"
      ]
     },
     "metadata": {
      "needs_background": "light"
     },
     "output_type": "display_data"
    }
   ],
   "source": [
    "out.boxplot(column=[\"Item_Visibility\"])\n",
    "plt.show() #Successfully removed outliers"
   ]
  },
  {
   "cell_type": "code",
   "execution_count": 36,
   "id": "d3dbc993",
   "metadata": {},
   "outputs": [
    {
     "data": {
      "text/plain": [
       "0.0612341265667268"
      ]
     },
     "execution_count": 36,
     "metadata": {},
     "output_type": "execute_result"
    }
   ],
   "source": [
    "out[\"Item_Visibility\"].mean()"
   ]
  },
  {
   "cell_type": "markdown",
   "id": "ca27a02c",
   "metadata": {},
   "source": [
    "### Univariate analysis for outlet type"
   ]
  },
  {
   "cell_type": "code",
   "execution_count": 37,
   "id": "0a7f0652",
   "metadata": {},
   "outputs": [],
   "source": [
    "out_Sf = naru3.loc[naru['Item_Type'] == 'Snack Foods']"
   ]
  },
  {
   "cell_type": "code",
   "execution_count": 38,
   "id": "717ec411",
   "metadata": {},
   "outputs": [],
   "source": [
    "out_Da = naru3.loc[naru['Item_Type'] == 'Dairy']"
   ]
  },
  {
   "cell_type": "code",
   "execution_count": 39,
   "id": "9a53687f",
   "metadata": {},
   "outputs": [],
   "source": [
    "out_ot = naru3.loc[naru['Item_Type'] == 'Other']"
   ]
  },
  {
   "cell_type": "code",
   "execution_count": 40,
   "id": "0a94dd8c",
   "metadata": {},
   "outputs": [],
   "source": [
    "out_fv = naru3.loc[naru['Item_Type'] == 'Fruits and Vegetables']"
   ]
  },
  {
   "cell_type": "code",
   "execution_count": 41,
   "id": "7cf62953",
   "metadata": {},
   "outputs": [
    {
     "data": {
      "image/png": "[encoded data removed]",
      "text/plain": [
       "<Figure size 432x288 with 1 Axes>"
      ]
     },
     "metadata": {
      "needs_background": "light"
     },
     "output_type": "display_data"
    }
   ],
   "source": [
    "plt.plot(out_Sf['Item_Visibility'],np.zeros_like(out_Sf['Item_Visibility']),'o')\n",
    "plt.plot(out_Da['Item_Visibility'],np.zeros_like(out_Da['Item_Visibility']),'o')\n",
    "plt.plot(out_ot['Item_Visibility'],np.zeros_like(out_ot['Item_Visibility']),'o')\n",
    "plt.plot(out_fv['Item_Visibility'],np.zeros_like(out_fv['Item_Visibility']),'o')\n",
    "plt.xlabel('Item_Visibility')\n",
    "plt.show()"
   ]
  },
  {
   "cell_type": "markdown",
   "id": "3f5687d4",
   "metadata": {},
   "source": [
    "## Bivariate analysis"
   ]
  },
  {
   "cell_type": "code",
   "execution_count": 42,
   "id": "8bfd3234",
   "metadata": {},
   "outputs": [
    {
     "name": "stderr",
     "output_type": "stream",
     "text": [
      "C:\\Users\\Narendra\\anaconda3\\lib\\site-packages\\seaborn\\axisgrid.py:316: UserWarning: The `size` parameter has been renamed to `height`; please update your code.\n",
      "  warnings.warn(msg, UserWarning)\n"
     ]
    },
    {
     "data": {
      "image/png": "[encoded data removed]",
      "text/plain": [
       "<Figure size 503.875x360 with 1 Axes>"
      ]
     },
     "metadata": {
      "needs_background": "light"
     },
     "output_type": "display_data"
    }
   ],
   "source": [
    "sns.FacetGrid(naru3,hue='Item_Type',size=5).map(plt.scatter,'Item_Visibility','Item_Fat_Content').add_legend();\n",
    "plt.show()"
   ]
  },
  {
   "cell_type": "code",
   "execution_count": null,
   "id": "1ddeb6a7",
   "metadata": {},
   "outputs": [],
   "source": []
  }
 ],
 "metadata": {
  "kernelspec": {
   "display_name": "Python 3",
   "language": "python",
   "name": "python3"
  },
  "language_info": {
   "codemirror_mode": {
    "name": "ipython",
    "version": 3
   },
   "file_extension": ".py",
   "mimetype": "text/x-python",
   "name": "python",
   "nbconvert_exporter": "python",
   "pygments_lexer": "ipython3",
   "version": "3.8.8"
  }
 },
 "nbformat": 4,
 "nbformat_minor": 5
}
